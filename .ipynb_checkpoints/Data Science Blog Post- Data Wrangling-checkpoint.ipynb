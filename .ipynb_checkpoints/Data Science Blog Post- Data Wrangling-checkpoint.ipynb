{
 "cells": [
  {
   "cell_type": "code",
   "execution_count": 1,
   "metadata": {},
   "outputs": [],
   "source": [
    "import numpy as np \n",
    "import pandas as pd"
   ]
  },
  {
   "cell_type": "code",
   "execution_count": 2,
   "metadata": {},
   "outputs": [],
   "source": [
    "#read in data\n",
    "original_goodread_df = pd.read_csv('books.csv', error_bad_lines = False)\n",
    "original_goodread_df.head()\n",
    "\n",
    "#make a copy of the df so preserve original data\n",
    "goodread_df = original_goodread_df.copy()"
   ]
  },
  {
   "cell_type": "markdown",
   "metadata": {},
   "source": [
    "### Set Up Data To Be Easily Accessed Late "
   ]
  },
  {
   "cell_type": "code",
   "execution_count": 3,
   "metadata": {},
   "outputs": [
    {
     "name": "stdout",
     "output_type": "stream",
     "text": [
      "['bookID', 'title', 'authors', 'average_rating', 'isbn', 'isbn13', 'language_code', '  num_pages', 'ratings_count', 'text_reviews_count', 'publication_date', 'publisher', 'Unnamed: 12']\n"
     ]
    }
   ],
   "source": [
    "#creating column name list\n",
    "col_names = list(goodread_df.columns)\n",
    "print(col_names)"
   ]
  },
  {
   "cell_type": "code",
   "execution_count": 4,
   "metadata": {},
   "outputs": [],
   "source": [
    "#updating column name to have no spaces\n",
    "goodread_df = goodread_df.rename(columns={\"  num_pages\": \"num_pages\"})"
   ]
  },
  {
   "cell_type": "code",
   "execution_count": 5,
   "metadata": {},
   "outputs": [
    {
     "name": "stdout",
     "output_type": "stream",
     "text": [
      "['bookID', 'title', 'authors', 'average_rating', 'isbn', 'isbn13', 'language_code', 'num_pages', 'ratings_count', 'text_reviews_count', 'publication_date', 'publisher', 'Unnamed: 12']\n"
     ]
    }
   ],
   "source": [
    "#updating column name list\n",
    "col_names = list(goodread_df.columns)\n",
    "print(col_names)"
   ]
  },
  {
   "cell_type": "code",
   "execution_count": 6,
   "metadata": {},
   "outputs": [
    {
     "name": "stdout",
     "output_type": "stream",
     "text": [
      "P.G. Wodehouse                               40\n",
      "Stephen King                                 40\n",
      "Rumiko Takahashi                             39\n",
      "Orson Scott Card                             35\n",
      "Agatha Christie                              33\n",
      "                                             ..\n",
      "Robert Goddard                                1\n",
      "Yasunari Kawabata/Edward G. Seidensticker     1\n",
      "Jerome Kagan                                  1\n",
      "Norman Sherry                                 1\n",
      "D.H. Lawrence/Christa Jansohn                 1\n",
      "Name: authors, Length: 6643, dtype: int64\n"
     ]
    }
   ],
   "source": [
    "#check authors\n",
    "authors_sum = goodread_df.authors.value_counts()\n",
    "print(authors_sum)"
   ]
  },
  {
   "cell_type": "code",
   "execution_count": 7,
   "metadata": {},
   "outputs": [
    {
     "name": "stdout",
     "output_type": "stream",
     "text": [
      "Vintage                              318\n",
      "Penguin Books                        261\n",
      "Penguin Classics                     184\n",
      "Mariner Books                        150\n",
      "Ballantine Books                     144\n",
      "                                    ... \n",
      "Peter Smith Publisher                  1\n",
      "Doubleday & Company  Inc.              1\n",
      "Titan Books Ltd                        1\n",
      "W.W. Norton & Company (NY/London)      1\n",
      "One Hour Entertainment                 1\n",
      "Name: publisher, Length: 2294, dtype: int64\n"
     ]
    }
   ],
   "source": [
    "#check publishers\n",
    "publishers_sum = goodread_df.publisher.value_counts()\n",
    "print(publishers_sum)"
   ]
  },
  {
   "cell_type": "code",
   "execution_count": 8,
   "metadata": {},
   "outputs": [
    {
     "name": "stdout",
     "output_type": "stream",
     "text": [
      "The Brothers Karamazov                                                                9\n",
      "The Iliad                                                                             9\n",
      "Gulliver's Travels                                                                    8\n",
      "The Odyssey                                                                           8\n",
      "Anna Karenina                                                                         8\n",
      "                                                                                     ..\n",
      "Beatrix Potter's Journal                                                              1\n",
      "E=mc²: A Biography of the World's Most Famous Equation                                1\n",
      "Shampoo Planet                                                                        1\n",
      "Fermat's Enigma: The Epic Quest to Solve the World's Greatest Mathematical Problem    1\n",
      "The Hannibal Lecter Trilogy                                                           1\n",
      "Name: title, Length: 10352, dtype: int64\n"
     ]
    }
   ],
   "source": [
    "#check titles\n",
    "titles_sum = goodread_df.title.value_counts()\n",
    "print(titles_sum)"
   ]
  },
  {
   "cell_type": "code",
   "execution_count": 9,
   "metadata": {},
   "outputs": [
    {
     "name": "stdout",
     "output_type": "stream",
     "text": [
      "3.58          2\n",
      "440169127     1\n",
      "312865767     1\n",
      "374455031     1\n",
      "671024205     1\n",
      "             ..\n",
      "23513209      1\n",
      "7179812       1\n",
      "039700804X    1\n",
      "8838461139    1\n",
      "1572705485    1\n",
      "Name: isbn, Length: 11126, dtype: int64\n"
     ]
    }
   ],
   "source": [
    "#check ISBNs\n",
    "isbn_sum = goodread_df.isbn.value_counts()\n",
    "print(isbn_sum)"
   ]
  },
  {
   "cell_type": "code",
   "execution_count": 10,
   "metadata": {},
   "outputs": [
    {
     "name": "stdout",
     "output_type": "stream",
     "text": [
      "Brown Son & Ferguson Ltd.      1\n",
      "Cold Spring Press              1\n",
      "Harvard University Press       1\n",
      "Huntington House Publishers    1\n",
      "Name: Unnamed: 12, dtype: int64\n"
     ]
    }
   ],
   "source": [
    "#check unnamed column\n",
    "extra_col_sum = goodread_df['Unnamed: 12'].value_counts()\n",
    "print(extra_col_sum)"
   ]
  },
  {
   "cell_type": "markdown",
   "metadata": {},
   "source": [
    "### Update goodread_df rows that are out of alignment"
   ]
  },
  {
   "cell_type": "code",
   "execution_count": 12,
   "metadata": {},
   "outputs": [
    {
     "data": {
      "text/html": [
       "<div>\n",
       "<style scoped>\n",
       "    .dataframe tbody tr th:only-of-type {\n",
       "        vertical-align: middle;\n",
       "    }\n",
       "\n",
       "    .dataframe tbody tr th {\n",
       "        vertical-align: top;\n",
       "    }\n",
       "\n",
       "    .dataframe thead th {\n",
       "        text-align: right;\n",
       "    }\n",
       "</style>\n",
       "<table border=\"1\" class=\"dataframe\">\n",
       "  <thead>\n",
       "    <tr style=\"text-align: right;\">\n",
       "      <th></th>\n",
       "      <th>bookID</th>\n",
       "      <th>title</th>\n",
       "      <th>authors</th>\n",
       "      <th>average_rating</th>\n",
       "      <th>isbn</th>\n",
       "      <th>isbn13</th>\n",
       "      <th>language_code</th>\n",
       "      <th>num_pages</th>\n",
       "      <th>ratings_count</th>\n",
       "      <th>text_reviews_count</th>\n",
       "      <th>publication_date</th>\n",
       "      <th>publisher</th>\n",
       "      <th>Unnamed: 12</th>\n",
       "    </tr>\n",
       "  </thead>\n",
       "  <tbody>\n",
       "    <tr>\n",
       "      <th>3348</th>\n",
       "      <td>12224</td>\n",
       "      <td>Streetcar Suburbs: The Process of Growth in Bo...</td>\n",
       "      <td>Sam Bass Warner</td>\n",
       "      <td>Jr./Sam B. Warner</td>\n",
       "      <td>3.58</td>\n",
       "      <td>674842111</td>\n",
       "      <td>9.78067E+12</td>\n",
       "      <td>en-US</td>\n",
       "      <td>236</td>\n",
       "      <td>61</td>\n",
       "      <td>6</td>\n",
       "      <td>4/20/04</td>\n",
       "      <td>Harvard University Press</td>\n",
       "    </tr>\n",
       "    <tr>\n",
       "      <th>4702</th>\n",
       "      <td>16914</td>\n",
       "      <td>The Tolkien Fan's Medieval Reader</td>\n",
       "      <td>David E. Smith (Turgon of TheOneRing.net</td>\n",
       "      <td>one of the founding members of this Tolkien w...</td>\n",
       "      <td>3.58</td>\n",
       "      <td>1593600119</td>\n",
       "      <td>9.78159E+12</td>\n",
       "      <td>eng</td>\n",
       "      <td>400</td>\n",
       "      <td>26</td>\n",
       "      <td>4</td>\n",
       "      <td>4/6/04</td>\n",
       "      <td>Cold Spring Press</td>\n",
       "    </tr>\n",
       "    <tr>\n",
       "      <th>5877</th>\n",
       "      <td>22128</td>\n",
       "      <td>Patriots (The Coming Collapse)</td>\n",
       "      <td>James Wesley</td>\n",
       "      <td>Rawles</td>\n",
       "      <td>3.63</td>\n",
       "      <td>156384155X</td>\n",
       "      <td>9.78156E+12</td>\n",
       "      <td>eng</td>\n",
       "      <td>342</td>\n",
       "      <td>38</td>\n",
       "      <td>4</td>\n",
       "      <td>1/15/99</td>\n",
       "      <td>Huntington House Publishers</td>\n",
       "    </tr>\n",
       "    <tr>\n",
       "      <th>8979</th>\n",
       "      <td>34889</td>\n",
       "      <td>Brown's Star Atlas: Showing All The Bright Sta...</td>\n",
       "      <td>Brown</td>\n",
       "      <td>Son &amp; Ferguson</td>\n",
       "      <td>0</td>\n",
       "      <td>851742718</td>\n",
       "      <td>9.78085E+12</td>\n",
       "      <td>eng</td>\n",
       "      <td>49</td>\n",
       "      <td>0</td>\n",
       "      <td>0</td>\n",
       "      <td>5/1/77</td>\n",
       "      <td>Brown Son &amp; Ferguson Ltd.</td>\n",
       "    </tr>\n",
       "  </tbody>\n",
       "</table>\n",
       "</div>"
      ],
      "text/plain": [
       "      bookID                                              title  \\\n",
       "3348   12224  Streetcar Suburbs: The Process of Growth in Bo...   \n",
       "4702   16914                  The Tolkien Fan's Medieval Reader   \n",
       "5877   22128                     Patriots (The Coming Collapse)   \n",
       "8979   34889  Brown's Star Atlas: Showing All The Bright Sta...   \n",
       "\n",
       "                                       authors  \\\n",
       "3348                           Sam Bass Warner   \n",
       "4702  David E. Smith (Turgon of TheOneRing.net   \n",
       "5877                              James Wesley   \n",
       "8979                                     Brown   \n",
       "\n",
       "                                         average_rating  isbn      isbn13  \\\n",
       "3348                                  Jr./Sam B. Warner  3.58   674842111   \n",
       "4702   one of the founding members of this Tolkien w...  3.58  1593600119   \n",
       "5877                                             Rawles  3.63  156384155X   \n",
       "8979                                     Son & Ferguson     0   851742718   \n",
       "\n",
       "     language_code num_pages  ratings_count  text_reviews_count  \\\n",
       "3348   9.78067E+12     en-US            236                  61   \n",
       "4702   9.78159E+12       eng            400                  26   \n",
       "5877   9.78156E+12       eng            342                  38   \n",
       "8979   9.78085E+12       eng             49                   0   \n",
       "\n",
       "     publication_date publisher                  Unnamed: 12  \n",
       "3348                6   4/20/04     Harvard University Press  \n",
       "4702                4    4/6/04            Cold Spring Press  \n",
       "5877                4   1/15/99  Huntington House Publishers  \n",
       "8979                0    5/1/77    Brown Son & Ferguson Ltd.  "
      ]
     },
     "execution_count": 12,
     "metadata": {},
     "output_type": "execute_result"
    }
   ],
   "source": [
    "#create slice of DF to check out the alignment of certain rows\n",
    "outofalignment_df = goodread_df[(goodread_df.num_pages == 'eng') | (goodread_df.num_pages == 'en-US')]\n",
    "\n",
    "outofalignment_df.head()"
   ]
  },
  {
   "cell_type": "code",
   "execution_count": 13,
   "metadata": {},
   "outputs": [
    {
     "data": {
      "text/html": [
       "<div>\n",
       "<style scoped>\n",
       "    .dataframe tbody tr th:only-of-type {\n",
       "        vertical-align: middle;\n",
       "    }\n",
       "\n",
       "    .dataframe tbody tr th {\n",
       "        vertical-align: top;\n",
       "    }\n",
       "\n",
       "    .dataframe thead th {\n",
       "        text-align: right;\n",
       "    }\n",
       "</style>\n",
       "<table border=\"1\" class=\"dataframe\">\n",
       "  <thead>\n",
       "    <tr style=\"text-align: right;\">\n",
       "      <th></th>\n",
       "      <th>bookID</th>\n",
       "      <th>title</th>\n",
       "      <th>authors</th>\n",
       "      <th>isbn</th>\n",
       "      <th>isbn13</th>\n",
       "      <th>language_code</th>\n",
       "      <th>num_pages</th>\n",
       "      <th>ratings_count</th>\n",
       "      <th>text_reviews_count</th>\n",
       "      <th>publication_date</th>\n",
       "      <th>publisher</th>\n",
       "      <th>Unnamed: 12</th>\n",
       "    </tr>\n",
       "  </thead>\n",
       "  <tbody>\n",
       "    <tr>\n",
       "      <th>3348</th>\n",
       "      <td>12224</td>\n",
       "      <td>Streetcar Suburbs: The Process of Growth in Bo...</td>\n",
       "      <td>Sam Bass Warner Jr./Sam B. Warner</td>\n",
       "      <td>3.58</td>\n",
       "      <td>674842111</td>\n",
       "      <td>9.78067E+12</td>\n",
       "      <td>en-US</td>\n",
       "      <td>236</td>\n",
       "      <td>61</td>\n",
       "      <td>6</td>\n",
       "      <td>4/20/04</td>\n",
       "      <td>Harvard University Press</td>\n",
       "    </tr>\n",
       "    <tr>\n",
       "      <th>4702</th>\n",
       "      <td>16914</td>\n",
       "      <td>The Tolkien Fan's Medieval Reader</td>\n",
       "      <td>David E. Smith (Turgon of TheOneRing.net one o...</td>\n",
       "      <td>3.58</td>\n",
       "      <td>1593600119</td>\n",
       "      <td>9.78159E+12</td>\n",
       "      <td>eng</td>\n",
       "      <td>400</td>\n",
       "      <td>26</td>\n",
       "      <td>4</td>\n",
       "      <td>4/6/04</td>\n",
       "      <td>Cold Spring Press</td>\n",
       "    </tr>\n",
       "    <tr>\n",
       "      <th>5877</th>\n",
       "      <td>22128</td>\n",
       "      <td>Patriots (The Coming Collapse)</td>\n",
       "      <td>James Wesley Rawles</td>\n",
       "      <td>3.63</td>\n",
       "      <td>156384155X</td>\n",
       "      <td>9.78156E+12</td>\n",
       "      <td>eng</td>\n",
       "      <td>342</td>\n",
       "      <td>38</td>\n",
       "      <td>4</td>\n",
       "      <td>1/15/99</td>\n",
       "      <td>Huntington House Publishers</td>\n",
       "    </tr>\n",
       "    <tr>\n",
       "      <th>8979</th>\n",
       "      <td>34889</td>\n",
       "      <td>Brown's Star Atlas: Showing All The Bright Sta...</td>\n",
       "      <td>Brown Son &amp; Ferguson</td>\n",
       "      <td>0</td>\n",
       "      <td>851742718</td>\n",
       "      <td>9.78085E+12</td>\n",
       "      <td>eng</td>\n",
       "      <td>49</td>\n",
       "      <td>0</td>\n",
       "      <td>0</td>\n",
       "      <td>5/1/77</td>\n",
       "      <td>Brown Son &amp; Ferguson Ltd.</td>\n",
       "    </tr>\n",
       "  </tbody>\n",
       "</table>\n",
       "</div>"
      ],
      "text/plain": [
       "      bookID                                              title  \\\n",
       "3348   12224  Streetcar Suburbs: The Process of Growth in Bo...   \n",
       "4702   16914                  The Tolkien Fan's Medieval Reader   \n",
       "5877   22128                     Patriots (The Coming Collapse)   \n",
       "8979   34889  Brown's Star Atlas: Showing All The Bright Sta...   \n",
       "\n",
       "                                                authors  isbn      isbn13  \\\n",
       "3348                  Sam Bass Warner Jr./Sam B. Warner  3.58   674842111   \n",
       "4702  David E. Smith (Turgon of TheOneRing.net one o...  3.58  1593600119   \n",
       "5877                                James Wesley Rawles  3.63  156384155X   \n",
       "8979                               Brown Son & Ferguson     0   851742718   \n",
       "\n",
       "     language_code num_pages  ratings_count  text_reviews_count  \\\n",
       "3348   9.78067E+12     en-US            236                  61   \n",
       "4702   9.78159E+12       eng            400                  26   \n",
       "5877   9.78156E+12       eng            342                  38   \n",
       "8979   9.78085E+12       eng             49                   0   \n",
       "\n",
       "     publication_date publisher                  Unnamed: 12  \n",
       "3348                6   4/20/04     Harvard University Press  \n",
       "4702                4    4/6/04            Cold Spring Press  \n",
       "5877                4   1/15/99  Huntington House Publishers  \n",
       "8979                0    5/1/77    Brown Son & Ferguson Ltd.  "
      ]
     },
     "execution_count": 13,
     "metadata": {},
     "output_type": "execute_result"
    }
   ],
   "source": [
    "#create a new df with rows out of alignment\n",
    "df_misshapen = goodread_df.loc[[3348, 4702, 5877, 8979]]\n",
    "df_misshapen.head()\n",
    "\n",
    "#add the separated author columns together \n",
    "df_misshapen['authors_full'] = df_misshapen['authors'] + df_misshapen['average_rating']\n",
    "\n",
    "#overwrite poorly formatted author column with correct author column \n",
    "df_misshapen['authors'] = df_misshapen['authors_full']\n",
    "\n",
    "#drop unneeded columns\n",
    "df_misshapen = df_misshapen.drop(['average_rating','authors_full'], axis=1)\n",
    "\n",
    "df_misshapen.head()"
   ]
  },
  {
   "cell_type": "code",
   "execution_count": 14,
   "metadata": {},
   "outputs": [
    {
     "data": {
      "text/html": [
       "<div>\n",
       "<style scoped>\n",
       "    .dataframe tbody tr th:only-of-type {\n",
       "        vertical-align: middle;\n",
       "    }\n",
       "\n",
       "    .dataframe tbody tr th {\n",
       "        vertical-align: top;\n",
       "    }\n",
       "\n",
       "    .dataframe thead th {\n",
       "        text-align: right;\n",
       "    }\n",
       "</style>\n",
       "<table border=\"1\" class=\"dataframe\">\n",
       "  <thead>\n",
       "    <tr style=\"text-align: right;\">\n",
       "      <th></th>\n",
       "      <th>bookID</th>\n",
       "      <th>title</th>\n",
       "      <th>authors</th>\n",
       "      <th>average_rating</th>\n",
       "      <th>isbn</th>\n",
       "      <th>isbn13</th>\n",
       "      <th>language_code</th>\n",
       "      <th>num_pages</th>\n",
       "      <th>ratings_count</th>\n",
       "      <th>text_reviews_count</th>\n",
       "      <th>publication_date</th>\n",
       "      <th>publisher</th>\n",
       "    </tr>\n",
       "  </thead>\n",
       "  <tbody>\n",
       "    <tr>\n",
       "      <th>3348</th>\n",
       "      <td>12224</td>\n",
       "      <td>Streetcar Suburbs: The Process of Growth in Bo...</td>\n",
       "      <td>Sam Bass Warner Jr./Sam B. Warner</td>\n",
       "      <td>3.58</td>\n",
       "      <td>674842111</td>\n",
       "      <td>9.78067E+12</td>\n",
       "      <td>en-US</td>\n",
       "      <td>236</td>\n",
       "      <td>61</td>\n",
       "      <td>6</td>\n",
       "      <td>4/20/04</td>\n",
       "      <td>Harvard University Press</td>\n",
       "    </tr>\n",
       "    <tr>\n",
       "      <th>4702</th>\n",
       "      <td>16914</td>\n",
       "      <td>The Tolkien Fan's Medieval Reader</td>\n",
       "      <td>David E. Smith (Turgon of TheOneRing.net one o...</td>\n",
       "      <td>3.58</td>\n",
       "      <td>1593600119</td>\n",
       "      <td>9.78159E+12</td>\n",
       "      <td>eng</td>\n",
       "      <td>400</td>\n",
       "      <td>26</td>\n",
       "      <td>4</td>\n",
       "      <td>4/6/04</td>\n",
       "      <td>Cold Spring Press</td>\n",
       "    </tr>\n",
       "    <tr>\n",
       "      <th>5877</th>\n",
       "      <td>22128</td>\n",
       "      <td>Patriots (The Coming Collapse)</td>\n",
       "      <td>James Wesley Rawles</td>\n",
       "      <td>3.63</td>\n",
       "      <td>156384155X</td>\n",
       "      <td>9.78156E+12</td>\n",
       "      <td>eng</td>\n",
       "      <td>342</td>\n",
       "      <td>38</td>\n",
       "      <td>4</td>\n",
       "      <td>1/15/99</td>\n",
       "      <td>Huntington House Publishers</td>\n",
       "    </tr>\n",
       "    <tr>\n",
       "      <th>8979</th>\n",
       "      <td>34889</td>\n",
       "      <td>Brown's Star Atlas: Showing All The Bright Sta...</td>\n",
       "      <td>Brown Son &amp; Ferguson</td>\n",
       "      <td>0</td>\n",
       "      <td>851742718</td>\n",
       "      <td>9.78085E+12</td>\n",
       "      <td>eng</td>\n",
       "      <td>49</td>\n",
       "      <td>0</td>\n",
       "      <td>0</td>\n",
       "      <td>5/1/77</td>\n",
       "      <td>Brown Son &amp; Ferguson Ltd.</td>\n",
       "    </tr>\n",
       "  </tbody>\n",
       "</table>\n",
       "</div>"
      ],
      "text/plain": [
       "      bookID                                              title  \\\n",
       "3348   12224  Streetcar Suburbs: The Process of Growth in Bo...   \n",
       "4702   16914                  The Tolkien Fan's Medieval Reader   \n",
       "5877   22128                     Patriots (The Coming Collapse)   \n",
       "8979   34889  Brown's Star Atlas: Showing All The Bright Sta...   \n",
       "\n",
       "                                                authors average_rating  \\\n",
       "3348                  Sam Bass Warner Jr./Sam B. Warner           3.58   \n",
       "4702  David E. Smith (Turgon of TheOneRing.net one o...           3.58   \n",
       "5877                                James Wesley Rawles           3.63   \n",
       "8979                               Brown Son & Ferguson              0   \n",
       "\n",
       "            isbn       isbn13 language_code  num_pages  ratings_count  \\\n",
       "3348   674842111  9.78067E+12         en-US        236             61   \n",
       "4702  1593600119  9.78159E+12           eng        400             26   \n",
       "5877  156384155X  9.78156E+12           eng        342             38   \n",
       "8979   851742718  9.78085E+12           eng         49              0   \n",
       "\n",
       "     text_reviews_count publication_date                    publisher  \n",
       "3348                  6          4/20/04     Harvard University Press  \n",
       "4702                  4           4/6/04            Cold Spring Press  \n",
       "5877                  4          1/15/99  Huntington House Publishers  \n",
       "8979                  0           5/1/77    Brown Son & Ferguson Ltd.  "
      ]
     },
     "execution_count": 14,
     "metadata": {},
     "output_type": "execute_result"
    }
   ],
   "source": [
    "loop_count = 0\n",
    "\n",
    "def update_col_names(df, col_list, loop_count):\n",
    "    for col in df.columns:\n",
    "        df = df.rename(columns={col: col_list[loop_count]})\n",
    "        loop_count += 1\n",
    "    return df\n",
    "\n",
    "df_reshaped = update_col_names(df_misshapen, col_names, loop_count)\n",
    "\n",
    "df_reshaped.head()"
   ]
  },
  {
   "cell_type": "code",
   "execution_count": 15,
   "metadata": {},
   "outputs": [],
   "source": [
    "#overwrite poorly formatted rows with correct formatted rows \n",
    "goodread_df.iloc[3348] = df_reshaped.iloc[0]\n",
    "goodread_df.iloc[4702] = df_reshaped.iloc[1]\n",
    "goodread_df.iloc[5877] = df_reshaped.iloc[2]\n",
    "goodread_df.iloc[8979] = df_reshaped.iloc[3]"
   ]
  },
  {
   "cell_type": "code",
   "execution_count": 16,
   "metadata": {},
   "outputs": [
    {
     "name": "stdout",
     "output_type": "stream",
     "text": [
      "Series([], Name: Unnamed: 12, dtype: int64)\n"
     ]
    }
   ],
   "source": [
    "#check unnamed column\n",
    "extra_col_sum = goodread_df[\"Unnamed: 12\"].value_counts()\n",
    "print(extra_col_sum)"
   ]
  },
  {
   "cell_type": "code",
   "execution_count": 17,
   "metadata": {},
   "outputs": [
    {
     "data": {
      "text/plain": [
       "['bookID',\n",
       " 'title',\n",
       " 'author',\n",
       " 'average_rating',\n",
       " 'isbn',\n",
       " 'isbn13',\n",
       " 'language_code',\n",
       " 'num_pages',\n",
       " 'ratings_count',\n",
       " 'text_reviews_count',\n",
       " 'publication_date',\n",
       " 'publisher']"
      ]
     },
     "execution_count": 17,
     "metadata": {},
     "output_type": "execute_result"
    }
   ],
   "source": [
    "#drop empty column\n",
    "goodread_df = goodread_df.drop(['Unnamed: 12'], axis=1)\n",
    "col_names[2] = 'author'\n",
    "col_names = col_names[:-1]\n",
    "col_names"
   ]
  },
  {
   "cell_type": "markdown",
   "metadata": {},
   "source": [
    "### Create dataframe with only books in English"
   ]
  },
  {
   "cell_type": "code",
   "execution_count": 19,
   "metadata": {},
   "outputs": [
    {
     "name": "stdout",
     "output_type": "stream",
     "text": [
      "eng      8911\n",
      "en-US    1409\n",
      "spa       218\n",
      "en-GB     214\n",
      "fre       144\n",
      "ger        99\n",
      "jpn        46\n",
      "mul        19\n",
      "zho        14\n",
      "grc        11\n",
      "por        10\n",
      "en-CA       7\n",
      "ita         5\n",
      "enm         3\n",
      "lat         3\n",
      "rus         2\n",
      "swe         2\n",
      "srp         1\n",
      "wel         1\n",
      "ara         1\n",
      "ale         1\n",
      "gla         1\n",
      "nl          1\n",
      "tur         1\n",
      "nor         1\n",
      "glg         1\n",
      "msa         1\n",
      "Name: language_code, dtype: int64\n"
     ]
    }
   ],
   "source": [
    "#check language codes\n",
    "language_sum = goodread_df.language_code.value_counts()\n",
    "print(language_sum)"
   ]
  },
  {
   "cell_type": "code",
   "execution_count": 20,
   "metadata": {},
   "outputs": [
    {
     "name": "stdout",
     "output_type": "stream",
     "text": [
      "eng    10544\n",
      "spa      218\n",
      "fre      144\n",
      "ger       99\n",
      "jpn       46\n",
      "mul       19\n",
      "zho       14\n",
      "grc       11\n",
      "por       10\n",
      "ita        5\n",
      "lat        3\n",
      "swe        2\n",
      "rus        2\n",
      "wel        1\n",
      "srp        1\n",
      "nor        1\n",
      "ara        1\n",
      "ale        1\n",
      "gla        1\n",
      "nl         1\n",
      "tur        1\n",
      "glg        1\n",
      "msa        1\n",
      "Name: language_code, dtype: int64\n"
     ]
    },
    {
     "ename": "NameError",
     "evalue": "name 'corrected_goodread_df' is not defined",
     "output_type": "error",
     "traceback": [
      "\u001b[0;31m---------------------------------------------------------------------------\u001b[0m",
      "\u001b[0;31mNameError\u001b[0m                                 Traceback (most recent call last)",
      "\u001b[0;32m<ipython-input-20-6ae69a038e5f>\u001b[0m in \u001b[0;36m<module>\u001b[0;34m\u001b[0m\n\u001b[1;32m     18\u001b[0m \u001b[0meng_goodread_df\u001b[0m \u001b[0;34m=\u001b[0m \u001b[0meng_goodread_df\u001b[0m\u001b[0;34m.\u001b[0m\u001b[0mreset_index\u001b[0m\u001b[0;34m(\u001b[0m\u001b[0mdrop\u001b[0m\u001b[0;34m=\u001b[0m\u001b[0;32mTrue\u001b[0m\u001b[0;34m)\u001b[0m\u001b[0;34m\u001b[0m\u001b[0;34m\u001b[0m\u001b[0m\n\u001b[1;32m     19\u001b[0m \u001b[0;34m\u001b[0m\u001b[0m\n\u001b[0;32m---> 20\u001b[0;31m \u001b[0mprint\u001b[0m\u001b[0;34m(\u001b[0m\u001b[0mlen\u001b[0m\u001b[0;34m(\u001b[0m\u001b[0mcorrected_goodread_df\u001b[0m\u001b[0;34m)\u001b[0m\u001b[0;34m)\u001b[0m\u001b[0;34m\u001b[0m\u001b[0;34m\u001b[0m\u001b[0m\n\u001b[0m",
      "\u001b[0;31mNameError\u001b[0m: name 'corrected_goodread_df' is not defined"
     ]
    }
   ],
   "source": [
    "#change en-US and en-GB to eng\n",
    "goodread_df = goodread_df.replace(['en-US', 'en-GB', 'en-CA', 'enm'], 'eng')\n",
    "\n",
    "#check language codes\n",
    "language_sum = goodread_df.language_code.value_counts()\n",
    "print(language_sum)\n",
    "\n",
    "#create english book df slice\n",
    "non_eng_goodread_slice = goodread_df[(goodread_df.language_code != 'eng')]\n",
    "\n",
    "#create a list of indexes for english books\n",
    "non_eng_book_index = list(non_eng_goodread_slice.index.values)\n",
    "\n",
    "#drop all non-eng rows\n",
    "eng_goodread_df = goodread_df.drop(non_eng_book_index, axis=0)\n",
    "\n",
    "#reset index\n",
    "eng_goodread_df = eng_goodread_df.reset_index(drop=True)\n",
    "\n",
    "print(len(eng_goodread_df))"
   ]
  },
  {
   "cell_type": "code",
   "execution_count": 21,
   "metadata": {},
   "outputs": [
    {
     "name": "stdout",
     "output_type": "stream",
     "text": [
      "10544\n"
     ]
    }
   ],
   "source": [
    "print(len(eng_goodread_df))"
   ]
  },
  {
   "cell_type": "code",
   "execution_count": 22,
   "metadata": {},
   "outputs": [
    {
     "data": {
      "text/html": [
       "<div>\n",
       "<style scoped>\n",
       "    .dataframe tbody tr th:only-of-type {\n",
       "        vertical-align: middle;\n",
       "    }\n",
       "\n",
       "    .dataframe tbody tr th {\n",
       "        vertical-align: top;\n",
       "    }\n",
       "\n",
       "    .dataframe thead th {\n",
       "        text-align: right;\n",
       "    }\n",
       "</style>\n",
       "<table border=\"1\" class=\"dataframe\">\n",
       "  <thead>\n",
       "    <tr style=\"text-align: right;\">\n",
       "      <th></th>\n",
       "      <th>bookID</th>\n",
       "      <th>title</th>\n",
       "      <th>average_rating</th>\n",
       "      <th>isbn</th>\n",
       "      <th>isbn13</th>\n",
       "      <th>language_code</th>\n",
       "      <th>num_pages</th>\n",
       "      <th>ratings_count</th>\n",
       "      <th>text_reviews_count</th>\n",
       "      <th>publication_date</th>\n",
       "      <th>publisher</th>\n",
       "      <th>author</th>\n",
       "    </tr>\n",
       "  </thead>\n",
       "  <tbody>\n",
       "    <tr>\n",
       "      <th>0</th>\n",
       "      <td>1</td>\n",
       "      <td>Harry Potter and the Half-Blood Prince (Harry ...</td>\n",
       "      <td>4.57</td>\n",
       "      <td>439785960</td>\n",
       "      <td>9780439785969</td>\n",
       "      <td>eng</td>\n",
       "      <td>652</td>\n",
       "      <td>2095690</td>\n",
       "      <td>27591</td>\n",
       "      <td>9/16/06</td>\n",
       "      <td>Scholastic Inc.</td>\n",
       "      <td>J.K. Rowling</td>\n",
       "    </tr>\n",
       "    <tr>\n",
       "      <th>1</th>\n",
       "      <td>2</td>\n",
       "      <td>Harry Potter and the Order of the Phoenix (Har...</td>\n",
       "      <td>4.49</td>\n",
       "      <td>439358078</td>\n",
       "      <td>9780439358071</td>\n",
       "      <td>eng</td>\n",
       "      <td>870</td>\n",
       "      <td>2153167</td>\n",
       "      <td>29221</td>\n",
       "      <td>9/1/04</td>\n",
       "      <td>Scholastic Inc.</td>\n",
       "      <td>J.K. Rowling</td>\n",
       "    </tr>\n",
       "    <tr>\n",
       "      <th>2</th>\n",
       "      <td>4</td>\n",
       "      <td>Harry Potter and the Chamber of Secrets (Harry...</td>\n",
       "      <td>4.42</td>\n",
       "      <td>439554896</td>\n",
       "      <td>9780439554893</td>\n",
       "      <td>eng</td>\n",
       "      <td>352</td>\n",
       "      <td>6333</td>\n",
       "      <td>244</td>\n",
       "      <td>11/1/03</td>\n",
       "      <td>Scholastic</td>\n",
       "      <td>J.K. Rowling</td>\n",
       "    </tr>\n",
       "    <tr>\n",
       "      <th>3</th>\n",
       "      <td>5</td>\n",
       "      <td>Harry Potter and the Prisoner of Azkaban (Harr...</td>\n",
       "      <td>4.56</td>\n",
       "      <td>043965548X</td>\n",
       "      <td>9780439655484</td>\n",
       "      <td>eng</td>\n",
       "      <td>435</td>\n",
       "      <td>2339585</td>\n",
       "      <td>36325</td>\n",
       "      <td>5/1/04</td>\n",
       "      <td>Scholastic Inc.</td>\n",
       "      <td>J.K. Rowling</td>\n",
       "    </tr>\n",
       "    <tr>\n",
       "      <th>4</th>\n",
       "      <td>8</td>\n",
       "      <td>Harry Potter Boxed Set  Books 1-5 (Harry Potte...</td>\n",
       "      <td>4.78</td>\n",
       "      <td>439682584</td>\n",
       "      <td>9780439682589</td>\n",
       "      <td>eng</td>\n",
       "      <td>2690</td>\n",
       "      <td>41428</td>\n",
       "      <td>164</td>\n",
       "      <td>9/13/04</td>\n",
       "      <td>Scholastic</td>\n",
       "      <td>J.K. Rowling</td>\n",
       "    </tr>\n",
       "  </tbody>\n",
       "</table>\n",
       "</div>"
      ],
      "text/plain": [
       "   bookID                                              title average_rating  \\\n",
       "0       1  Harry Potter and the Half-Blood Prince (Harry ...           4.57   \n",
       "1       2  Harry Potter and the Order of the Phoenix (Har...           4.49   \n",
       "2       4  Harry Potter and the Chamber of Secrets (Harry...           4.42   \n",
       "3       5  Harry Potter and the Prisoner of Azkaban (Harr...           4.56   \n",
       "4       8  Harry Potter Boxed Set  Books 1-5 (Harry Potte...           4.78   \n",
       "\n",
       "         isbn         isbn13 language_code num_pages  ratings_count  \\\n",
       "0   439785960  9780439785969           eng       652        2095690   \n",
       "1   439358078  9780439358071           eng       870        2153167   \n",
       "2   439554896  9780439554893           eng       352           6333   \n",
       "3  043965548X  9780439655484           eng       435        2339585   \n",
       "4   439682584  9780439682589           eng      2690          41428   \n",
       "\n",
       "  text_reviews_count publication_date        publisher        author  \n",
       "0              27591          9/16/06  Scholastic Inc.  J.K. Rowling  \n",
       "1              29221           9/1/04  Scholastic Inc.  J.K. Rowling  \n",
       "2                244          11/1/03       Scholastic  J.K. Rowling  \n",
       "3              36325           5/1/04  Scholastic Inc.  J.K. Rowling  \n",
       "4                164          9/13/04       Scholastic  J.K. Rowling  "
      ]
     },
     "execution_count": 22,
     "metadata": {},
     "output_type": "execute_result"
    }
   ],
   "source": [
    "#split out authors into primary author column and other authors column\n",
    "author_split = eng_goodread_df.authors.str.split(\"/\", n=1, expand=True) \n",
    "\n",
    "eng_goodread_df['author'] = author_split[0]\n",
    "\n",
    "eng_goodread_df = eng_goodread_df.drop('authors', axis=1)\n",
    "eng_goodread_df.head()"
   ]
  },
  {
   "cell_type": "code",
   "execution_count": 23,
   "metadata": {},
   "outputs": [
    {
     "data": {
      "text/html": [
       "<div>\n",
       "<style scoped>\n",
       "    .dataframe tbody tr th:only-of-type {\n",
       "        vertical-align: middle;\n",
       "    }\n",
       "\n",
       "    .dataframe tbody tr th {\n",
       "        vertical-align: top;\n",
       "    }\n",
       "\n",
       "    .dataframe thead th {\n",
       "        text-align: right;\n",
       "    }\n",
       "</style>\n",
       "<table border=\"1\" class=\"dataframe\">\n",
       "  <thead>\n",
       "    <tr style=\"text-align: right;\">\n",
       "      <th></th>\n",
       "      <th>bookID</th>\n",
       "      <th>title</th>\n",
       "      <th>author</th>\n",
       "      <th>average_rating</th>\n",
       "      <th>isbn</th>\n",
       "      <th>isbn13</th>\n",
       "      <th>language_code</th>\n",
       "      <th>num_pages</th>\n",
       "      <th>ratings_count</th>\n",
       "      <th>text_reviews_count</th>\n",
       "      <th>publication_date</th>\n",
       "      <th>publisher</th>\n",
       "    </tr>\n",
       "  </thead>\n",
       "  <tbody>\n",
       "    <tr>\n",
       "      <th>0</th>\n",
       "      <td>1</td>\n",
       "      <td>Harry Potter and the Half-Blood Prince (Harry ...</td>\n",
       "      <td>J.K. Rowling</td>\n",
       "      <td>4.57</td>\n",
       "      <td>439785960</td>\n",
       "      <td>9780439785969</td>\n",
       "      <td>eng</td>\n",
       "      <td>652</td>\n",
       "      <td>2095690</td>\n",
       "      <td>27591</td>\n",
       "      <td>9/16/06</td>\n",
       "      <td>Scholastic Inc.</td>\n",
       "    </tr>\n",
       "    <tr>\n",
       "      <th>1</th>\n",
       "      <td>2</td>\n",
       "      <td>Harry Potter and the Order of the Phoenix (Har...</td>\n",
       "      <td>J.K. Rowling</td>\n",
       "      <td>4.49</td>\n",
       "      <td>439358078</td>\n",
       "      <td>9780439358071</td>\n",
       "      <td>eng</td>\n",
       "      <td>870</td>\n",
       "      <td>2153167</td>\n",
       "      <td>29221</td>\n",
       "      <td>9/1/04</td>\n",
       "      <td>Scholastic Inc.</td>\n",
       "    </tr>\n",
       "    <tr>\n",
       "      <th>2</th>\n",
       "      <td>4</td>\n",
       "      <td>Harry Potter and the Chamber of Secrets (Harry...</td>\n",
       "      <td>J.K. Rowling</td>\n",
       "      <td>4.42</td>\n",
       "      <td>439554896</td>\n",
       "      <td>9780439554893</td>\n",
       "      <td>eng</td>\n",
       "      <td>352</td>\n",
       "      <td>6333</td>\n",
       "      <td>244</td>\n",
       "      <td>11/1/03</td>\n",
       "      <td>Scholastic</td>\n",
       "    </tr>\n",
       "    <tr>\n",
       "      <th>3</th>\n",
       "      <td>5</td>\n",
       "      <td>Harry Potter and the Prisoner of Azkaban (Harr...</td>\n",
       "      <td>J.K. Rowling</td>\n",
       "      <td>4.56</td>\n",
       "      <td>043965548X</td>\n",
       "      <td>9780439655484</td>\n",
       "      <td>eng</td>\n",
       "      <td>435</td>\n",
       "      <td>2339585</td>\n",
       "      <td>36325</td>\n",
       "      <td>5/1/04</td>\n",
       "      <td>Scholastic Inc.</td>\n",
       "    </tr>\n",
       "    <tr>\n",
       "      <th>4</th>\n",
       "      <td>8</td>\n",
       "      <td>Harry Potter Boxed Set  Books 1-5 (Harry Potte...</td>\n",
       "      <td>J.K. Rowling</td>\n",
       "      <td>4.78</td>\n",
       "      <td>439682584</td>\n",
       "      <td>9780439682589</td>\n",
       "      <td>eng</td>\n",
       "      <td>2690</td>\n",
       "      <td>41428</td>\n",
       "      <td>164</td>\n",
       "      <td>9/13/04</td>\n",
       "      <td>Scholastic</td>\n",
       "    </tr>\n",
       "  </tbody>\n",
       "</table>\n",
       "</div>"
      ],
      "text/plain": [
       "   bookID                                              title        author  \\\n",
       "0       1  Harry Potter and the Half-Blood Prince (Harry ...  J.K. Rowling   \n",
       "1       2  Harry Potter and the Order of the Phoenix (Har...  J.K. Rowling   \n",
       "2       4  Harry Potter and the Chamber of Secrets (Harry...  J.K. Rowling   \n",
       "3       5  Harry Potter and the Prisoner of Azkaban (Harr...  J.K. Rowling   \n",
       "4       8  Harry Potter Boxed Set  Books 1-5 (Harry Potte...  J.K. Rowling   \n",
       "\n",
       "  average_rating        isbn         isbn13 language_code num_pages  \\\n",
       "0           4.57   439785960  9780439785969           eng       652   \n",
       "1           4.49   439358078  9780439358071           eng       870   \n",
       "2           4.42   439554896  9780439554893           eng       352   \n",
       "3           4.56  043965548X  9780439655484           eng       435   \n",
       "4           4.78   439682584  9780439682589           eng      2690   \n",
       "\n",
       "   ratings_count text_reviews_count publication_date        publisher  \n",
       "0        2095690              27591          9/16/06  Scholastic Inc.  \n",
       "1        2153167              29221           9/1/04  Scholastic Inc.  \n",
       "2           6333                244          11/1/03       Scholastic  \n",
       "3        2339585              36325           5/1/04  Scholastic Inc.  \n",
       "4          41428                164          9/13/04       Scholastic  "
      ]
     },
     "execution_count": 23,
     "metadata": {},
     "output_type": "execute_result"
    }
   ],
   "source": [
    "#reorder goodread_df columns\n",
    "eng_goodread_df = eng_goodread_df[col_names]\n",
    "eng_goodread_df.head()"
   ]
  },
  {
   "cell_type": "code",
   "execution_count": 24,
   "metadata": {},
   "outputs": [
    {
     "name": "stdout",
     "output_type": "stream",
     "text": [
      "William Shakespeare    88\n",
      "Stephen King           64\n",
      "J.R.R. Tolkien         47\n",
      "P.G. Wodehouse         46\n",
      "Agatha Christie        45\n",
      "                       ..\n",
      "Rosetta James           1\n",
      "Mark Kermode            1\n",
      "Julie Garwood           1\n",
      "Peter Hessler           1\n",
      "James Pinocchio         1\n",
      "Name: author, Length: 4169, dtype: int64\n"
     ]
    }
   ],
   "source": [
    "#check authors\n",
    "authors_sum = eng_goodread_df.author.value_counts()\n",
    "print(authors_sum)"
   ]
  },
  {
   "cell_type": "code",
   "execution_count": 25,
   "metadata": {},
   "outputs": [
    {
     "name": "stdout",
     "output_type": "stream",
     "text": [
      "The Brothers Karamazov             9\n",
      "The Iliad                          9\n",
      "'Salem's Lot                       8\n",
      "The Odyssey                        8\n",
      "Gulliver's Travels                 8\n",
      "                                  ..\n",
      "Floor Games (Sandplay Classics)    1\n",
      "Blow Fly (Kay Scarpetta  #12)      1\n",
      "The Shape of Things to Come        1\n",
      "Beatrix Potter's Journal           1\n",
      "The Hannibal Lecter Trilogy        1\n",
      "Name: title, Length: 9808, dtype: int64\n"
     ]
    }
   ],
   "source": [
    "#check titles\n",
    "titles_sum = eng_goodread_df.title.value_counts()\n",
    "print(titles_sum)"
   ]
  },
  {
   "cell_type": "code",
   "execution_count": 26,
   "metadata": {},
   "outputs": [
    {
     "data": {
      "text/html": [
       "<div>\n",
       "<style scoped>\n",
       "    .dataframe tbody tr th:only-of-type {\n",
       "        vertical-align: middle;\n",
       "    }\n",
       "\n",
       "    .dataframe tbody tr th {\n",
       "        vertical-align: top;\n",
       "    }\n",
       "\n",
       "    .dataframe thead th {\n",
       "        text-align: right;\n",
       "    }\n",
       "</style>\n",
       "<table border=\"1\" class=\"dataframe\">\n",
       "  <thead>\n",
       "    <tr style=\"text-align: right;\">\n",
       "      <th></th>\n",
       "      <th>bookID</th>\n",
       "      <th>title</th>\n",
       "      <th>author</th>\n",
       "      <th>average_rating</th>\n",
       "      <th>isbn</th>\n",
       "      <th>isbn13</th>\n",
       "      <th>language_code</th>\n",
       "      <th>num_pages</th>\n",
       "      <th>ratings_count</th>\n",
       "      <th>text_reviews_count</th>\n",
       "      <th>publication_date</th>\n",
       "      <th>publisher</th>\n",
       "    </tr>\n",
       "  </thead>\n",
       "  <tbody>\n",
       "    <tr>\n",
       "      <th>1330</th>\n",
       "      <td>4933</td>\n",
       "      <td>The Brothers Karamazov</td>\n",
       "      <td>Fyodor Dostoyevsky</td>\n",
       "      <td>4.32</td>\n",
       "      <td>451527348</td>\n",
       "      <td>9780451527349</td>\n",
       "      <td>eng</td>\n",
       "      <td>736</td>\n",
       "      <td>983</td>\n",
       "      <td>91</td>\n",
       "      <td>6/1/99</td>\n",
       "      <td>Signet Classics</td>\n",
       "    </tr>\n",
       "    <tr>\n",
       "      <th>1331</th>\n",
       "      <td>4934</td>\n",
       "      <td>The Brothers Karamazov</td>\n",
       "      <td>Fyodor Dostoyevsky</td>\n",
       "      <td>4.32</td>\n",
       "      <td>374528373</td>\n",
       "      <td>9780374528379</td>\n",
       "      <td>eng</td>\n",
       "      <td>796</td>\n",
       "      <td>191531</td>\n",
       "      <td>6795</td>\n",
       "      <td>6/14/02</td>\n",
       "      <td>Farrar  Straus and Giroux</td>\n",
       "    </tr>\n",
       "    <tr>\n",
       "      <th>1332</th>\n",
       "      <td>4935</td>\n",
       "      <td>The Brothers Karamazov</td>\n",
       "      <td>Fyodor Dostoyevsky</td>\n",
       "      <td>4.32</td>\n",
       "      <td>140449248</td>\n",
       "      <td>9780140449242</td>\n",
       "      <td>eng</td>\n",
       "      <td>1013</td>\n",
       "      <td>1673</td>\n",
       "      <td>184</td>\n",
       "      <td>2/27/03</td>\n",
       "      <td>Penguin Books Ltd</td>\n",
       "    </tr>\n",
       "    <tr>\n",
       "      <th>1333</th>\n",
       "      <td>4936</td>\n",
       "      <td>The Brothers Karamazov</td>\n",
       "      <td>Fyodor Dostoyevsky</td>\n",
       "      <td>4.32</td>\n",
       "      <td>679729259</td>\n",
       "      <td>9780679729259</td>\n",
       "      <td>eng</td>\n",
       "      <td>796</td>\n",
       "      <td>617</td>\n",
       "      <td>80</td>\n",
       "      <td>9/3/91</td>\n",
       "      <td>Vintage Books USA</td>\n",
       "    </tr>\n",
       "    <tr>\n",
       "      <th>1334</th>\n",
       "      <td>4938</td>\n",
       "      <td>The Brothers Karamazov</td>\n",
       "      <td>Fyodor Dostoyevsky</td>\n",
       "      <td>4.32</td>\n",
       "      <td>1596440791</td>\n",
       "      <td>9781596440791</td>\n",
       "      <td>eng</td>\n",
       "      <td>16</td>\n",
       "      <td>20</td>\n",
       "      <td>2</td>\n",
       "      <td>5/1/05</td>\n",
       "      <td>Hovel Audio</td>\n",
       "    </tr>\n",
       "    <tr>\n",
       "      <th>1335</th>\n",
       "      <td>4940</td>\n",
       "      <td>The Brothers Karamazov</td>\n",
       "      <td>Fyodor Dostoyevsky</td>\n",
       "      <td>4.32</td>\n",
       "      <td>159308045X</td>\n",
       "      <td>9781593080457</td>\n",
       "      <td>eng</td>\n",
       "      <td>720</td>\n",
       "      <td>1089</td>\n",
       "      <td>202</td>\n",
       "      <td>7/25/04</td>\n",
       "      <td>Barnes  Noble Classics</td>\n",
       "    </tr>\n",
       "    <tr>\n",
       "      <th>1551</th>\n",
       "      <td>5691</td>\n",
       "      <td>The Brothers Karamazov</td>\n",
       "      <td>Fyodor Dostoyevsky</td>\n",
       "      <td>4.32</td>\n",
       "      <td>99922800</td>\n",
       "      <td>9780099922803</td>\n",
       "      <td>eng</td>\n",
       "      <td>796</td>\n",
       "      <td>443</td>\n",
       "      <td>55</td>\n",
       "      <td>1/16/92</td>\n",
       "      <td>Vintage Classics</td>\n",
       "    </tr>\n",
       "    <tr>\n",
       "      <th>1897</th>\n",
       "      <td>7135</td>\n",
       "      <td>The Brothers Karamazov</td>\n",
       "      <td>Fyodor Dostoyevsky</td>\n",
       "      <td>4.32</td>\n",
       "      <td>553212168</td>\n",
       "      <td>9780553212167</td>\n",
       "      <td>eng</td>\n",
       "      <td>1072</td>\n",
       "      <td>1022</td>\n",
       "      <td>154</td>\n",
       "      <td>4/1/84</td>\n",
       "      <td>Bantam Classics</td>\n",
       "    </tr>\n",
       "    <tr>\n",
       "      <th>8872</th>\n",
       "      <td>37058</td>\n",
       "      <td>The Brothers Karamazov</td>\n",
       "      <td>Fyodor Dostoyevsky</td>\n",
       "      <td>4.32</td>\n",
       "      <td>1596440783</td>\n",
       "      <td>9781596440784</td>\n",
       "      <td>eng</td>\n",
       "      <td>16</td>\n",
       "      <td>3</td>\n",
       "      <td>1</td>\n",
       "      <td>5/1/05</td>\n",
       "      <td>Hovel Audio</td>\n",
       "    </tr>\n",
       "  </tbody>\n",
       "</table>\n",
       "</div>"
      ],
      "text/plain": [
       "      bookID                   title              author average_rating  \\\n",
       "1330    4933  The Brothers Karamazov  Fyodor Dostoyevsky           4.32   \n",
       "1331    4934  The Brothers Karamazov  Fyodor Dostoyevsky           4.32   \n",
       "1332    4935  The Brothers Karamazov  Fyodor Dostoyevsky           4.32   \n",
       "1333    4936  The Brothers Karamazov  Fyodor Dostoyevsky           4.32   \n",
       "1334    4938  The Brothers Karamazov  Fyodor Dostoyevsky           4.32   \n",
       "1335    4940  The Brothers Karamazov  Fyodor Dostoyevsky           4.32   \n",
       "1551    5691  The Brothers Karamazov  Fyodor Dostoyevsky           4.32   \n",
       "1897    7135  The Brothers Karamazov  Fyodor Dostoyevsky           4.32   \n",
       "8872   37058  The Brothers Karamazov  Fyodor Dostoyevsky           4.32   \n",
       "\n",
       "            isbn         isbn13 language_code num_pages  ratings_count  \\\n",
       "1330   451527348  9780451527349           eng       736            983   \n",
       "1331   374528373  9780374528379           eng       796         191531   \n",
       "1332   140449248  9780140449242           eng      1013           1673   \n",
       "1333   679729259  9780679729259           eng       796            617   \n",
       "1334  1596440791  9781596440791           eng        16             20   \n",
       "1335  159308045X  9781593080457           eng       720           1089   \n",
       "1551    99922800  9780099922803           eng       796            443   \n",
       "1897   553212168  9780553212167           eng      1072           1022   \n",
       "8872  1596440783  9781596440784           eng        16              3   \n",
       "\n",
       "     text_reviews_count publication_date                  publisher  \n",
       "1330                 91           6/1/99            Signet Classics  \n",
       "1331               6795          6/14/02  Farrar  Straus and Giroux  \n",
       "1332                184          2/27/03          Penguin Books Ltd  \n",
       "1333                 80           9/3/91          Vintage Books USA  \n",
       "1334                  2           5/1/05                Hovel Audio  \n",
       "1335                202          7/25/04     Barnes  Noble Classics  \n",
       "1551                 55          1/16/92           Vintage Classics  \n",
       "1897                154           4/1/84            Bantam Classics  \n",
       "8872                  1           5/1/05                Hovel Audio  "
      ]
     },
     "execution_count": 26,
     "metadata": {},
     "output_type": "execute_result"
    }
   ],
   "source": [
    "#check a specific title\n",
    "karamazov_df = eng_goodread_df[(eng_goodread_df.title == 'The Brothers Karamazov')]\n",
    "karamazov_df.head(9)"
   ]
  },
  {
   "cell_type": "markdown",
   "metadata": {},
   "source": [
    "### Deal with num_pages containing audio hours"
   ]
  },
  {
   "cell_type": "code",
   "execution_count": 27,
   "metadata": {},
   "outputs": [
    {
     "name": "stdout",
     "output_type": "stream",
     "text": [
      "181\n",
      "{'Nova Audio Books', 'Hovel Audio', 'RH Audio', 'BBC Audiobooks America', 'The Audio Partners', 'Scholastic Audio Books', 'Harper Audio', 'Hodder Audio', 'Macmillan Audio', 'Blackstone Audiobooks', 'Brilliance Audio', 'Canadian Broadcasting Corporation (CBC Audio)', 'BBC Audiobooks Ltd', 'Simon  Schuster Audio', 'MacMillan Audio', 'RH Audio Price-less', 'Phoenix Audio', 'Audio Partners', 'Random House Audio', 'AudioGO', 'Audio Renaissance', 'Audiogo', 'BBC Audiobooks', 'Penguin Audio UK', 'Hachette Audio', 'Naxos Audiobooks', 'Audio Literature', 'BBC Physical Audio', 'Highbridge Audio', 'HarperAudio', 'Listening Library (Audio)', 'Simon & Schuster Audio', 'AudioText', 'Random House Audio Publishing Group', 'Puffin Audiobooks', 'Penguin Audio'}\n"
     ]
    }
   ],
   "source": [
    "#create Boolean series for publishers that contain the word Audio\n",
    "audiobook_bool_series = eng_goodread_df['publisher'].str.contains('Audio')\n",
    "\n",
    "#create audiobook df slice\n",
    "audiobook_bool_slice = audiobook_bool_series[(audiobook_bool_series == True)]\n",
    "\n",
    "#create a list of indexes for audiobooks\n",
    "audiobook_bool_index = list(audiobook_bool_slice.index.values)\n",
    "\n",
    "#create a new df with audiobook rows\n",
    "df_audiobook = eng_goodread_df.loc[audiobook_bool_index]\n",
    "print(len(df_audiobook))\n",
    "\n",
    "print(set(list(df_audiobook['publisher'])))"
   ]
  },
  {
   "cell_type": "code",
   "execution_count": 28,
   "metadata": {},
   "outputs": [
    {
     "data": {
      "text/plain": [
       "['bookID',\n",
       " 'title',\n",
       " 'author',\n",
       " 'average_rating',\n",
       " 'isbn',\n",
       " 'isbn13',\n",
       " 'language_code',\n",
       " 'num_pages',\n",
       " 'audio_hrs',\n",
       " 'ratings_count',\n",
       " 'text_reviews_count',\n",
       " 'publication_date',\n",
       " 'publisher']"
      ]
     },
     "execution_count": 28,
     "metadata": {},
     "output_type": "execute_result"
    }
   ],
   "source": [
    "#reorder df_audiobooks columns\n",
    "col_names.append('audio_hrs')\n",
    "\n",
    "col_names = [col_names[0], col_names[1], col_names[2], col_names[3], col_names[4], col_names[5], col_names[6], col_names[7], col_names[12], col_names[8], col_names[9], col_names[10], col_names[11]]\n",
    "col_names"
   ]
  },
  {
   "cell_type": "code",
   "execution_count": 29,
   "metadata": {},
   "outputs": [
    {
     "data": {
      "text/html": [
       "<div>\n",
       "<style scoped>\n",
       "    .dataframe tbody tr th:only-of-type {\n",
       "        vertical-align: middle;\n",
       "    }\n",
       "\n",
       "    .dataframe tbody tr th {\n",
       "        vertical-align: top;\n",
       "    }\n",
       "\n",
       "    .dataframe thead th {\n",
       "        text-align: right;\n",
       "    }\n",
       "</style>\n",
       "<table border=\"1\" class=\"dataframe\">\n",
       "  <thead>\n",
       "    <tr style=\"text-align: right;\">\n",
       "      <th></th>\n",
       "      <th>bookID</th>\n",
       "      <th>title</th>\n",
       "      <th>author</th>\n",
       "      <th>average_rating</th>\n",
       "      <th>isbn</th>\n",
       "      <th>isbn13</th>\n",
       "      <th>language_code</th>\n",
       "      <th>num_pages</th>\n",
       "      <th>audio_hrs</th>\n",
       "      <th>ratings_count</th>\n",
       "      <th>text_reviews_count</th>\n",
       "      <th>publication_date</th>\n",
       "      <th>publisher</th>\n",
       "    </tr>\n",
       "  </thead>\n",
       "  <tbody>\n",
       "    <tr>\n",
       "      <th>10</th>\n",
       "      <td>16</td>\n",
       "      <td>The Hitchhiker's Guide to the Galaxy (Hitchhik...</td>\n",
       "      <td>Douglas Adams</td>\n",
       "      <td>4.22</td>\n",
       "      <td>739322206</td>\n",
       "      <td>9780739322208</td>\n",
       "      <td>eng</td>\n",
       "      <td>0</td>\n",
       "      <td>6</td>\n",
       "      <td>1266</td>\n",
       "      <td>253</td>\n",
       "      <td>3/23/05</td>\n",
       "      <td>Random House Audio</td>\n",
       "    </tr>\n",
       "    <tr>\n",
       "      <th>40</th>\n",
       "      <td>68</td>\n",
       "      <td>The Known World</td>\n",
       "      <td>Edward P. Jones</td>\n",
       "      <td>3.83</td>\n",
       "      <td>006076273X</td>\n",
       "      <td>9780060762735</td>\n",
       "      <td>eng</td>\n",
       "      <td>0</td>\n",
       "      <td>14</td>\n",
       "      <td>55</td>\n",
       "      <td>12</td>\n",
       "      <td>6/15/04</td>\n",
       "      <td>HarperAudio</td>\n",
       "    </tr>\n",
       "    <tr>\n",
       "      <th>210</th>\n",
       "      <td>524</td>\n",
       "      <td>Lord of the Flies</td>\n",
       "      <td>William Golding</td>\n",
       "      <td>3.68</td>\n",
       "      <td>307281701</td>\n",
       "      <td>9780307281708</td>\n",
       "      <td>eng</td>\n",
       "      <td>0</td>\n",
       "      <td>6</td>\n",
       "      <td>408</td>\n",
       "      <td>96</td>\n",
       "      <td>10/11/05</td>\n",
       "      <td>Listening Library (Audio)</td>\n",
       "    </tr>\n",
       "    <tr>\n",
       "      <th>353</th>\n",
       "      <td>1281</td>\n",
       "      <td>Men Are from Mars  Women Are from Venus</td>\n",
       "      <td>John Gray</td>\n",
       "      <td>3.55</td>\n",
       "      <td>006123205X</td>\n",
       "      <td>9780061232053</td>\n",
       "      <td>eng</td>\n",
       "      <td>0</td>\n",
       "      <td>2</td>\n",
       "      <td>43</td>\n",
       "      <td>3</td>\n",
       "      <td>4/3/07</td>\n",
       "      <td>HarperAudio</td>\n",
       "    </tr>\n",
       "    <tr>\n",
       "      <th>636</th>\n",
       "      <td>2166</td>\n",
       "      <td>The Old Man and the Sea</td>\n",
       "      <td>Ernest Hemingway</td>\n",
       "      <td>3.77</td>\n",
       "      <td>743564367</td>\n",
       "      <td>9780743564366</td>\n",
       "      <td>eng</td>\n",
       "      <td>0</td>\n",
       "      <td>3</td>\n",
       "      <td>393</td>\n",
       "      <td>77</td>\n",
       "      <td>5/1/06</td>\n",
       "      <td>Simon  Schuster Audio</td>\n",
       "    </tr>\n",
       "  </tbody>\n",
       "</table>\n",
       "</div>"
      ],
      "text/plain": [
       "     bookID                                              title  \\\n",
       "10       16  The Hitchhiker's Guide to the Galaxy (Hitchhik...   \n",
       "40       68                                    The Known World   \n",
       "210     524                                  Lord of the Flies   \n",
       "353    1281            Men Are from Mars  Women Are from Venus   \n",
       "636    2166                            The Old Man and the Sea   \n",
       "\n",
       "               author average_rating        isbn         isbn13 language_code  \\\n",
       "10      Douglas Adams           4.22   739322206  9780739322208           eng   \n",
       "40    Edward P. Jones           3.83  006076273X  9780060762735           eng   \n",
       "210   William Golding           3.68   307281701  9780307281708           eng   \n",
       "353         John Gray           3.55  006123205X  9780061232053           eng   \n",
       "636  Ernest Hemingway           3.77   743564367  9780743564366           eng   \n",
       "\n",
       "     num_pages audio_hrs  ratings_count text_reviews_count publication_date  \\\n",
       "10           0         6           1266                253          3/23/05   \n",
       "40           0        14             55                 12          6/15/04   \n",
       "210          0         6            408                 96         10/11/05   \n",
       "353          0         2             43                  3           4/3/07   \n",
       "636          0         3            393                 77           5/1/06   \n",
       "\n",
       "                     publisher  \n",
       "10          Random House Audio  \n",
       "40                 HarperAudio  \n",
       "210  Listening Library (Audio)  \n",
       "353                HarperAudio  \n",
       "636      Simon  Schuster Audio  "
      ]
     },
     "execution_count": 29,
     "metadata": {},
     "output_type": "execute_result"
    }
   ],
   "source": [
    "#rename df_audiobook columns and add in a new num_pages column\n",
    "df_audiobook = df_audiobook.rename(columns={'num_pages':'audio_hrs'})\n",
    "df_audiobook['num_pages'] = 0\n",
    "\n",
    "df_audiobook = df_audiobook[col_names]\n",
    "df_audiobook.head()"
   ]
  },
  {
   "cell_type": "code",
   "execution_count": 30,
   "metadata": {},
   "outputs": [],
   "source": [
    "#drop rows for data in df_audiobook\n",
    "eng_goodread_text_audio_df = eng_goodread_df.drop(audiobook_bool_index, axis=0)"
   ]
  },
  {
   "cell_type": "code",
   "execution_count": 32,
   "metadata": {},
   "outputs": [
    {
     "name": "stdout",
     "output_type": "stream",
     "text": [
      "10725\n"
     ]
    }
   ],
   "source": [
    "#append updated df_audiobook to goodread_audiobook_df and reorganize columns\n",
    "eng_goodread_text_audio_df = eng_goodread_text_audio_df.append(df_audiobook)\n",
    "eng_goodread_text_audio_df = eng_goodread_text_audio_df[col_names]\n",
    "eng_goodread_text_audio_df['audio_hrs'] = eng_goodread_text_audio_df['audio_hrs'].fillna(0)\n",
    "audio_hrs_slice = eng_goodread_text_audio_df[(eng_goodread_text_audio_df['audio_hrs'] != 0)]\n",
    "audio_hrs_slice.head()\n",
    "\n",
    "#reset index\n",
    "eng_goodread_text_audio_df = eng_goodread_text_audio_df.reset_index(drop=True)\n",
    "\n",
    "print(len(eng_goodread_text_audio_df))"
   ]
  },
  {
   "cell_type": "markdown",
   "metadata": {},
   "source": [
    "### Check for missing values in the num_pages and audio_hrs"
   ]
  },
  {
   "cell_type": "code",
   "execution_count": 33,
   "metadata": {},
   "outputs": [
    {
     "data": {
      "text/plain": [
       "bookID                                                             3593\n",
       "title                 Murder by Moonlight & Other Mysteries (New Adv...\n",
       "author                                                  Anthony Boucher\n",
       "average_rating                                                        4\n",
       "isbn                                                          743564677\n",
       "isbn13                                                    9780743564670\n",
       "language_code                                                       eng\n",
       "num_pages                                                             0\n",
       "audio_hrs                                                           6.5\n",
       "ratings_count                                                         7\n",
       "text_reviews_count                                                    2\n",
       "publication_date                                                10/3/06\n",
       "publisher                                         Simon  Schuster Audio\n",
       "Name: 10373, dtype: object"
      ]
     },
     "execution_count": 33,
     "metadata": {},
     "output_type": "execute_result"
    }
   ],
   "source": [
    "#correct the author == not a book rows\n",
    "notabook_slice = eng_goodread_text_audio_df[(eng_goodread_text_audio_df['author'] == 'NOT A BOOK')]\n",
    "notabook_slice.head()\n",
    "\n",
    "eng_goodread_text_audio_df.iloc[10373] = eng_goodread_text_audio_df.iloc[10373].replace({'audio_hrs': '0'}, 6.5)\n",
    "eng_goodread_text_audio_df.iloc[10373] = eng_goodread_text_audio_df.iloc[10373].replace({'author': 'NOT A BOOK'}, 'Anthony Boucher')\n",
    "eng_goodread_text_audio_df.iloc[10374] = eng_goodread_text_audio_df.iloc[10374].replace({'audio_hrs': '0'}, 1)\n",
    "eng_goodread_text_audio_df.iloc[10374] = eng_goodread_text_audio_df.iloc[10374].replace({'author': 'NOT A BOOK'}, 'Anthony Boucher')\n",
    "\n",
    "eng_goodread_text_audio_df.iloc[10373]"
   ]
  },
  {
   "cell_type": "code",
   "execution_count": 34,
   "metadata": {},
   "outputs": [],
   "source": [
    "#drop Not A Book rows\n",
    "eng_goodread_text_audio_df = eng_goodread_text_audio_df.drop([10438, 10439, 10440], axis=0)\n",
    "\n",
    "#reset index\n",
    "eng_goodread_text_audio_df = eng_goodread_text_audio_df.reset_index(drop=True)"
   ]
  },
  {
   "cell_type": "markdown",
   "metadata": {},
   "source": [
    "### Fix datatypes"
   ]
  },
  {
   "cell_type": "code",
   "execution_count": 35,
   "metadata": {},
   "outputs": [
    {
     "data": {
      "text/plain": [
       "bookID                        object\n",
       "title                         object\n",
       "author                        object\n",
       "average_rating               float64\n",
       "isbn                          object\n",
       "isbn13                        object\n",
       "language_code                 object\n",
       "num_pages                      int64\n",
       "audio_hrs                    float64\n",
       "ratings_count                  int64\n",
       "text_reviews_count             int64\n",
       "publication_date      datetime64[ns]\n",
       "publisher                     object\n",
       "dtype: object"
      ]
     },
     "execution_count": 35,
     "metadata": {},
     "output_type": "execute_result"
    }
   ],
   "source": [
    "#create copy of df to fix datatypes\n",
    "corrected_goodread_df = eng_goodread_text_audio_df.copy()\n",
    "corrected_goodread_df.head()\n",
    "\n",
    "corrected_goodread_df.dtypes\n",
    "\n",
    "#update average_rating, num_pages, text_reviews_count to int64\n",
    "corrected_goodread_df['bookID'] = corrected_goodread_df['bookID'].astype(str)\n",
    "corrected_goodread_df['audio_hrs'] = corrected_goodread_df['audio_hrs'].astype(float)\n",
    "corrected_goodread_df['average_rating'] = corrected_goodread_df['average_rating'].astype(float)\n",
    "corrected_goodread_df['num_pages'] = corrected_goodread_df['num_pages'].astype(int)\n",
    "corrected_goodread_df['text_reviews_count'] = corrected_goodread_df['text_reviews_count'].astype(int)\n",
    "\n",
    "corrected_goodread_df['publication_date'].sort_values()\n",
    "\n",
    "#update publication_date to datetime\n",
    "corrected_goodread_df['publication_date'] = pd.to_datetime(corrected_goodread_df['publication_date'], errors='coerce')\n",
    "  \n",
    "corrected_goodread_df.dtypes"
   ]
  },
  {
   "cell_type": "markdown",
   "metadata": {},
   "source": [
    "### Update Tantor Media audiobooks"
   ]
  },
  {
   "cell_type": "code",
   "execution_count": 36,
   "metadata": {},
   "outputs": [],
   "source": [
    "#create dataframe for Tantor Media audiobooks\n",
    "tantor_media_df = corrected_goodread_df[(corrected_goodread_df.publisher == 'Tantor Media')]\n",
    "tantor_media_df\n",
    "\n",
    "#create a list of indexes for Tantor Media audiobooks\n",
    "tantormedia_index_list = list(tantor_media_df.index.values)\n",
    "\n",
    "tantormedia_audiobooklength = {801: 6.5, 2027: 11, 2527:12.75, 4926:11.5, 9353:9.25, 9354:5.75}"
   ]
  },
  {
   "cell_type": "code",
   "execution_count": 37,
   "metadata": {},
   "outputs": [],
   "source": [
    "def update_booklength(df, booklength_list, booklength_dict):\n",
    "    for key, value in booklength_dict.items():\n",
    "        if key in booklength_list:\n",
    "            df.iloc[key] = df.iloc[key].replace({'audio_hrs': 0}, value)\n",
    "        else:\n",
    "            df.iloc[key] = df.iloc[key].replace({'num_pgs': 0}, value)\n",
    "    return df"
   ]
  },
  {
   "cell_type": "code",
   "execution_count": 38,
   "metadata": {},
   "outputs": [],
   "source": [
    "corrected_goodread_df = update_booklength(corrected_goodread_df, tantormedia_index_list, tantormedia_audiobooklength)"
   ]
  },
  {
   "cell_type": "code",
   "execution_count": 39,
   "metadata": {},
   "outputs": [
    {
     "data": {
      "text/html": [
       "<div>\n",
       "<style scoped>\n",
       "    .dataframe tbody tr th:only-of-type {\n",
       "        vertical-align: middle;\n",
       "    }\n",
       "\n",
       "    .dataframe tbody tr th {\n",
       "        vertical-align: top;\n",
       "    }\n",
       "\n",
       "    .dataframe thead th {\n",
       "        text-align: right;\n",
       "    }\n",
       "</style>\n",
       "<table border=\"1\" class=\"dataframe\">\n",
       "  <thead>\n",
       "    <tr style=\"text-align: right;\">\n",
       "      <th></th>\n",
       "      <th>bookID</th>\n",
       "      <th>title</th>\n",
       "      <th>author</th>\n",
       "      <th>average_rating</th>\n",
       "      <th>isbn</th>\n",
       "      <th>isbn13</th>\n",
       "      <th>language_code</th>\n",
       "      <th>num_pages</th>\n",
       "      <th>audio_hrs</th>\n",
       "      <th>ratings_count</th>\n",
       "      <th>text_reviews_count</th>\n",
       "      <th>publication_date</th>\n",
       "      <th>publisher</th>\n",
       "    </tr>\n",
       "  </thead>\n",
       "  <tbody>\n",
       "    <tr>\n",
       "      <th>801</th>\n",
       "      <td>2835</td>\n",
       "      <td>The Tragedy of Pudd'nhead Wilson</td>\n",
       "      <td>Mark Twain</td>\n",
       "      <td>3.79</td>\n",
       "      <td>140015068X</td>\n",
       "      <td>9781400150687</td>\n",
       "      <td>eng</td>\n",
       "      <td>0</td>\n",
       "      <td>6.50</td>\n",
       "      <td>3</td>\n",
       "      <td>0</td>\n",
       "      <td>2003-01-01</td>\n",
       "      <td>Tantor Media</td>\n",
       "    </tr>\n",
       "    <tr>\n",
       "      <th>2027</th>\n",
       "      <td>7737</td>\n",
       "      <td>Gulliver's Travels</td>\n",
       "      <td>Jonathan Swift</td>\n",
       "      <td>3.57</td>\n",
       "      <td>1400102723</td>\n",
       "      <td>9781400102723</td>\n",
       "      <td>eng</td>\n",
       "      <td>0</td>\n",
       "      <td>11.00</td>\n",
       "      <td>4</td>\n",
       "      <td>1</td>\n",
       "      <td>2006-10-01</td>\n",
       "      <td>Tantor Media</td>\n",
       "    </tr>\n",
       "    <tr>\n",
       "      <th>2527</th>\n",
       "      <td>9832</td>\n",
       "      <td>Blind Willow  Sleeping Woman: 24 Stories</td>\n",
       "      <td>Haruki Murakami</td>\n",
       "      <td>3.84</td>\n",
       "      <td>1400102952</td>\n",
       "      <td>9781400102952</td>\n",
       "      <td>eng</td>\n",
       "      <td>0</td>\n",
       "      <td>12.75</td>\n",
       "      <td>28</td>\n",
       "      <td>3</td>\n",
       "      <td>2006-10-15</td>\n",
       "      <td>Tantor Media</td>\n",
       "    </tr>\n",
       "    <tr>\n",
       "      <th>4926</th>\n",
       "      <td>19081</td>\n",
       "      <td>Madame Bovary</td>\n",
       "      <td>Gustave Flaubert</td>\n",
       "      <td>3.67</td>\n",
       "      <td>1400132746</td>\n",
       "      <td>9781400132744</td>\n",
       "      <td>eng</td>\n",
       "      <td>0</td>\n",
       "      <td>11.50</td>\n",
       "      <td>3</td>\n",
       "      <td>0</td>\n",
       "      <td>2006-10-01</td>\n",
       "      <td>Tantor Media</td>\n",
       "    </tr>\n",
       "    <tr>\n",
       "      <th>9353</th>\n",
       "      <td>40378</td>\n",
       "      <td>The Chessmen of Mars (Barsoom #5)</td>\n",
       "      <td>Edgar Rice Burroughs</td>\n",
       "      <td>3.83</td>\n",
       "      <td>1400130212</td>\n",
       "      <td>9781400130214</td>\n",
       "      <td>eng</td>\n",
       "      <td>0</td>\n",
       "      <td>9.25</td>\n",
       "      <td>5147</td>\n",
       "      <td>157</td>\n",
       "      <td>2005-01-01</td>\n",
       "      <td>Tantor Media</td>\n",
       "    </tr>\n",
       "    <tr>\n",
       "      <th>9354</th>\n",
       "      <td>40379</td>\n",
       "      <td>The Warlord of Mars (Barsoom  #3)</td>\n",
       "      <td>Edgar Rice Burroughs</td>\n",
       "      <td>3.86</td>\n",
       "      <td>1400130220</td>\n",
       "      <td>9781400130221</td>\n",
       "      <td>eng</td>\n",
       "      <td>6</td>\n",
       "      <td>5.75</td>\n",
       "      <td>9350</td>\n",
       "      <td>345</td>\n",
       "      <td>2001-02-01</td>\n",
       "      <td>Tantor Media</td>\n",
       "    </tr>\n",
       "  </tbody>\n",
       "</table>\n",
       "</div>"
      ],
      "text/plain": [
       "     bookID                                     title                author  \\\n",
       "801    2835          The Tragedy of Pudd'nhead Wilson            Mark Twain   \n",
       "2027   7737                        Gulliver's Travels        Jonathan Swift   \n",
       "2527   9832  Blind Willow  Sleeping Woman: 24 Stories       Haruki Murakami   \n",
       "4926  19081                             Madame Bovary      Gustave Flaubert   \n",
       "9353  40378         The Chessmen of Mars (Barsoom #5)  Edgar Rice Burroughs   \n",
       "9354  40379         The Warlord of Mars (Barsoom  #3)  Edgar Rice Burroughs   \n",
       "\n",
       "      average_rating        isbn         isbn13 language_code  num_pages  \\\n",
       "801             3.79  140015068X  9781400150687           eng          0   \n",
       "2027            3.57  1400102723  9781400102723           eng          0   \n",
       "2527            3.84  1400102952  9781400102952           eng          0   \n",
       "4926            3.67  1400132746  9781400132744           eng          0   \n",
       "9353            3.83  1400130212  9781400130214           eng          0   \n",
       "9354            3.86  1400130220  9781400130221           eng          6   \n",
       "\n",
       "      audio_hrs  ratings_count  text_reviews_count publication_date  \\\n",
       "801        6.50              3                   0       2003-01-01   \n",
       "2027      11.00              4                   1       2006-10-01   \n",
       "2527      12.75             28                   3       2006-10-15   \n",
       "4926      11.50              3                   0       2006-10-01   \n",
       "9353       9.25           5147                 157       2005-01-01   \n",
       "9354       5.75           9350                 345       2001-02-01   \n",
       "\n",
       "         publisher  \n",
       "801   Tantor Media  \n",
       "2027  Tantor Media  \n",
       "2527  Tantor Media  \n",
       "4926  Tantor Media  \n",
       "9353  Tantor Media  \n",
       "9354  Tantor Media  "
      ]
     },
     "execution_count": 39,
     "metadata": {},
     "output_type": "execute_result"
    }
   ],
   "source": [
    "corrected_goodread_df[(corrected_goodread_df.publisher == 'Tantor Media')]"
   ]
  },
  {
   "cell_type": "code",
   "execution_count": 40,
   "metadata": {},
   "outputs": [
    {
     "data": {
      "text/plain": [
       "bookID                                            2835\n",
       "title                 The Tragedy of Pudd'nhead Wilson\n",
       "author                                      Mark Twain\n",
       "average_rating                                    3.79\n",
       "isbn                                        140015068X\n",
       "isbn13                                   9781400150687\n",
       "language_code                                      eng\n",
       "num_pages                                            0\n",
       "audio_hrs                                          6.5\n",
       "ratings_count                                        3\n",
       "text_reviews_count                                   0\n",
       "publication_date                   2003-01-01 00:00:00\n",
       "publisher                                 Tantor Media\n",
       "Name: 801, dtype: object"
      ]
     },
     "execution_count": 40,
     "metadata": {},
     "output_type": "execute_result"
    }
   ],
   "source": [
    "corrected_goodread_df.iloc[801]"
   ]
  },
  {
   "cell_type": "code",
   "execution_count": 41,
   "metadata": {},
   "outputs": [
    {
     "data": {
      "text/plain": [
       "bookID                        object\n",
       "title                         object\n",
       "author                        object\n",
       "average_rating               float64\n",
       "isbn                          object\n",
       "isbn13                        object\n",
       "language_code                 object\n",
       "num_pages                      int64\n",
       "audio_hrs                    float64\n",
       "ratings_count                  int64\n",
       "text_reviews_count             int64\n",
       "publication_date      datetime64[ns]\n",
       "publisher                     object\n",
       "dtype: object"
      ]
     },
     "execution_count": 41,
     "metadata": {},
     "output_type": "execute_result"
    }
   ],
   "source": [
    "corrected_goodread_df.dtypes"
   ]
  },
  {
   "cell_type": "markdown",
   "metadata": {},
   "source": [
    "### Update rows with the zero book length"
   ]
  },
  {
   "cell_type": "code",
   "execution_count": 42,
   "metadata": {},
   "outputs": [],
   "source": [
    "#create slice of DF to check out books with 0 num_pages and 0 audio_hrs\n",
    "zero_booklength_df = corrected_goodread_df[(corrected_goodread_df.num_pages == 0) & (corrected_goodread_df.audio_hrs == 0)]\n",
    "zero_booklength_df\n",
    "\n",
    "#create a list of indexes for zero_booklength_df\n",
    "zero_booklength_index = list(zero_booklength_df.index.values)"
   ]
  },
  {
   "cell_type": "code",
   "execution_count": 43,
   "metadata": {},
   "outputs": [
    {
     "data": {
      "text/html": [
       "<div>\n",
       "<style scoped>\n",
       "    .dataframe tbody tr th:only-of-type {\n",
       "        vertical-align: middle;\n",
       "    }\n",
       "\n",
       "    .dataframe tbody tr th {\n",
       "        vertical-align: top;\n",
       "    }\n",
       "\n",
       "    .dataframe thead th {\n",
       "        text-align: right;\n",
       "    }\n",
       "</style>\n",
       "<table border=\"1\" class=\"dataframe\">\n",
       "  <thead>\n",
       "    <tr style=\"text-align: right;\">\n",
       "      <th></th>\n",
       "      <th>bookID</th>\n",
       "      <th>title</th>\n",
       "      <th>author</th>\n",
       "      <th>average_rating</th>\n",
       "      <th>isbn</th>\n",
       "      <th>isbn13</th>\n",
       "      <th>language_code</th>\n",
       "      <th>num_pages</th>\n",
       "      <th>audio_hrs</th>\n",
       "      <th>ratings_count</th>\n",
       "      <th>text_reviews_count</th>\n",
       "      <th>publication_date</th>\n",
       "      <th>publisher</th>\n",
       "    </tr>\n",
       "  </thead>\n",
       "  <tbody>\n",
       "  </tbody>\n",
       "</table>\n",
       "</div>"
      ],
      "text/plain": [
       "Empty DataFrame\n",
       "Columns: [bookID, title, author, average_rating, isbn, isbn13, language_code, num_pages, audio_hrs, ratings_count, text_reviews_count, publication_date, publisher]\n",
       "Index: []"
      ]
     },
     "execution_count": 43,
     "metadata": {},
     "output_type": "execute_result"
    }
   ],
   "source": [
    "zero_booklength_df[(zero_booklength_df.publisher == 'Tantor Media')]"
   ]
  },
  {
   "cell_type": "code",
   "execution_count": 45,
   "metadata": {},
   "outputs": [
    {
     "name": "stdout",
     "output_type": "stream",
     "text": [
      "111\n"
     ]
    }
   ],
   "source": [
    "print(len(zero_booklength_index))"
   ]
  },
  {
   "cell_type": "code",
   "execution_count": 46,
   "metadata": {},
   "outputs": [],
   "source": [
    "#create a new df with zero booklength books\n",
    "df_zero_booklength = corrected_goodread_df.loc[zero_booklength_index]\n",
    "\n",
    "df_zero_booklength.to_csv('zero_booklength_01.csv')"
   ]
  },
  {
   "cell_type": "code",
   "execution_count": null,
   "metadata": {},
   "outputs": [],
   "source": [
    "zero_booklength_dict = {2300:192, 2308:1015, 2605:1000, 3396:8.5, 3611:271, 4214:5.25, 4485:12, 4486:12, 5373:432, 5418:15.25,\n",
    "                        5419:13, 5601:241, 6609:288, 7055:3, 8330:341, 8366:398, 8491:192, 8892:221, 9513:241, 10194:318,\n",
    "                        10376:17, 10381:20.5, 10384:6, 10385:4.5, 10389:15.25, 10396:1.5, 10404:3.5, 10407:16, 10414:37.25,\n",
    "                        10420:6.5, 10423:7, 10431:16.75, 10434:5.25, 10440:6.75, 10442:9, 10445:22, 10447:5.75, 10457:5.25,\n",
    "                        10458:6.5, 10459:5.75, 10460:6, 10479:21.25, 10481:3, 10482:16.25, 10483:3, 10484:15.5, 10487:8.75,\n",
    "                        10489:10, 10490:5.5, 10492:0.75, 10497:1, 10498:1.25, 10499:3.25, 10501:3, 10502:1.5, 10506:6.25,\n",
    "                        10510:11.5, 10517:14.75, 10522:2.5, 10524:8.5, 10527:34.5, 10531:1.25, 10539:2}\n",
    "audiobook_index = [3396, 4214, 4485, 4486, 5418, 5419, 7055, 10376, 10381, 10384,10385, 10389, 10396, 10404, 10407, \n",
    "                   10414, 10420, 10423, 10431, 10434, 10440, 10442, 10445, 10447, 10457, 10458, 10459, 10460, 10479, \n",
    "                   10481, 10482, 10483, 10484, 10487, 10489, 10490, 10492, 10497, 10498, 10499, 10501, 10502, 10506, \n",
    "                   10510, 10517, 10522, 10524, 10527, 10531, 10539]"
   ]
  },
  {
   "cell_type": "code",
   "execution_count": null,
   "metadata": {},
   "outputs": [],
   "source": [
    "corrected_goodread_df = update_booklength(corrected_goodread_df, audiobook_index, zero_booklength_dict)"
   ]
  },
  {
   "cell_type": "code",
   "execution_count": null,
   "metadata": {},
   "outputs": [],
   "source": [
    "#create a new df with zero booklength books\n",
    "booklength_df = corrected_goodread_df.loc[zero_booklength_index]\n",
    "booklength_df"
   ]
  },
  {
   "cell_type": "code",
   "execution_count": null,
   "metadata": {},
   "outputs": [],
   "source": [
    "booklength_df = corrected_goodread_df[(corrected_goodread_df.num_pages == 0) & (corrected_goodread_df.audio_hrs == 0)]\n",
    "booklength_df\n",
    "\n",
    "print(len(corrected_goodread_df))"
   ]
  },
  {
   "cell_type": "code",
   "execution_count": null,
   "metadata": {},
   "outputs": [],
   "source": [
    "#drop zero book length rows\n",
    "corrected_goodread_df = corrected_goodread_df.drop([1984, 291], axis=0)\n",
    "\n",
    "#reset index\n",
    "corrected_goodread_df = corrected_goodread_df.reset_index(drop=True)\n",
    "\n",
    "print(len(corrected_goodread_df))"
   ]
  },
  {
   "cell_type": "code",
   "execution_count": null,
   "metadata": {},
   "outputs": [],
   "source": [
    "Update null publication dates"
   ]
  },
  {
   "cell_type": "code",
   "execution_count": null,
   "metadata": {},
   "outputs": [],
   "source": [
    "#check publication date column\n",
    "pub_date_slice = corrected_goodread_df[corrected_goodread_df.publication_date.isnull()]\n",
    "pub_date_slice"
   ]
  },
  {
   "cell_type": "code",
   "execution_count": null,
   "metadata": {},
   "outputs": [],
   "source": [
    "corrected_goodread_df.iloc[7600]"
   ]
  },
  {
   "cell_type": "code",
   "execution_count": null,
   "metadata": {},
   "outputs": [],
   "source": [
    "#replace incorrect date\n",
    "date_correction = pd.to_datetime('2000-10-31')\n",
    "\n",
    "corrected_goodread_df['publication_date'] = corrected_goodread_df['publication_date'].fillna(date_correction)"
   ]
  },
  {
   "cell_type": "code",
   "execution_count": null,
   "metadata": {},
   "outputs": [],
   "source": [
    "corrected_goodread_df['publication_date'][7600]"
   ]
  },
  {
   "cell_type": "code",
   "execution_count": null,
   "metadata": {},
   "outputs": [],
   "source": [
    "Create a series column"
   ]
  },
  {
   "cell_type": "code",
   "execution_count": null,
   "metadata": {},
   "outputs": [],
   "source": [
    "#create Boolean series for publishers that contain the character #\n",
    "bookseries_series = corrected_goodread_df['title'].str.contains('#')\n",
    "\n",
    "#create audiobook df slice\n",
    "bookseries_bool_slice = bookseries_series[(bookseries_series == True)]\n",
    "\n",
    "#create a list of indexes for audiobooks\n",
    "bookseries_bool_index = list(bookseries_bool_slice.index.values)\n",
    "\n",
    "#create a new df with audiobook rows\n",
    "df_bookseries = corrected_goodread_df.loc[bookseries_bool_index]\n",
    "df_bookseries.title.head()"
   ]
  },
  {
   "cell_type": "code",
   "execution_count": null,
   "metadata": {},
   "outputs": [],
   "source": [
    "list_bookseries = df_bookseries['title'].to_list()\n",
    "list_bookseries"
   ]
  },
  {
   "cell_type": "code",
   "execution_count": null,
   "metadata": {},
   "outputs": [],
   "source": [
    "df_bookseries['series'] = True\n",
    "\n",
    "corrected_goodread_df = pd.merge(corrected_goodread_df, df_bookseries, on=col_names, how='outer')\n",
    "corrected_goodread_df['series'] = corrected_goodread_df['series'].fillna(False)"
   ]
  },
  {
   "cell_type": "code",
   "execution_count": null,
   "metadata": {},
   "outputs": [],
   "source": [
    "corrected_goodread_df.head()"
   ]
  },
  {
   "cell_type": "code",
   "execution_count": null,
   "metadata": {},
   "outputs": [],
   "source": [
    "corrected_goodread_df.dtypes"
   ]
  },
  {
   "cell_type": "code",
   "execution_count": null,
   "metadata": {},
   "outputs": [],
   "source": [
    "print(len(corrected_goodread_df))"
   ]
  },
  {
   "cell_type": "code",
   "execution_count": null,
   "metadata": {},
   "outputs": [],
   "source": [
    "Send information to CSV to help with adding more information to this dataset later"
   ]
  },
  {
   "cell_type": "code",
   "execution_count": null,
   "metadata": {},
   "outputs": [],
   "source": [
    "corrected_goodread_df['isbn'].to_csv('isbn.csv', index=False)"
   ]
  },
  {
   "cell_type": "code",
   "execution_count": null,
   "metadata": {},
   "outputs": [],
   "source": [
    "corrected_goodread_df['isbn13'].to_csv('isbn13.csv', index=False)"
   ]
  },
  {
   "cell_type": "code",
   "execution_count": null,
   "metadata": {},
   "outputs": [],
   "source": [
    "corrected_goodread_df.to_csv('corrected_goodread_df.csv', index=False)"
   ]
  },
  {
   "cell_type": "code",
   "execution_count": null,
   "metadata": {},
   "outputs": [],
   "source": [
    "#add columns for\n",
    "#genre category (fiction/non-fiction)\n",
    "#genre (memoir, play, science fiction, etc.)\n",
    "#?"
   ]
  },
  {
   "cell_type": "code",
   "execution_count": null,
   "metadata": {},
   "outputs": [],
   "source": [
    "#re-sort by number of ratings, check head and tail\n",
    "#re-sort by number of reviews, check head and tail\n",
    "#re-sort by ratings, check head and tail\n",
    "\n",
    "#number counts for:\n",
    "#authors\n",
    "#average_ratings\n",
    "#publisher\n",
    "#text_reviews_counts\n",
    "#ratings_count"
   ]
  }
 ],
 "metadata": {
  "kernelspec": {
   "display_name": "Python 3",
   "language": "python",
   "name": "python3"
  },
  "language_info": {
   "codemirror_mode": {
    "name": "ipython",
    "version": 3
   },
   "file_extension": ".py",
   "mimetype": "text/x-python",
   "name": "python",
   "nbconvert_exporter": "python",
   "pygments_lexer": "ipython3",
   "version": "3.8.3"
  }
 },
 "nbformat": 4,
 "nbformat_minor": 4
}
